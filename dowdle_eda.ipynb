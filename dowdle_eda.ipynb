{
 "cells": [
  {
   "cell_type": "markdown",
   "metadata": {},
   "source": [
    "# Project 6 Custom Data Anlaytics Project\n",
    "Brittany Dowdle   06/05/2024\n",
    "\n",
    "## Overview\n",
    "In this project, I'll use Jupyter to perform a custom project. I will perform my own unique exploratory data analysis project and present data stories by narrating my process and sharing the insights gained from the data.\n",
    "\n",
    "## Objective\n",
    "Perform and publish a custom EDA project to demnostrate skills with Jupyter, pandas, Seaborn and popular tools for data analytics. The notebook should tell a data story and visually present findings in a clear and engaging manner.\n",
    "\n",
    "## Choose a dataset for analysis\n",
    "Palmerpenguins is a great dataset for data exploration and visualization. Data comes from 3 penguin species in the islands of Palmer Archipelago, Antarctica."
   ]
  },
  {
   "cell_type": "markdown",
   "metadata": {},
   "source": [
    "### Import Dependencies *(At the Top, After the Introduction)*\n",
    "Follow conventional package import organization and alias.\n",
    "Import each package just once near the top of the file.\n",
    "Be sure you have **INSTALLED** any external packages *(outside the Python Standard Library)* into your active project virtual environment first."
   ]
  },
  {
   "cell_type": "code",
   "execution_count": 2,
   "metadata": {},
   "outputs": [],
   "source": [
    "#Execute the cell seperately to ensure everything works.\n",
    "import matplotlib.pyplot as plt\n",
    "import pandas as pd\n",
    "import numpy as np\n",
    "\n",
    "# Visualisation libraries\n",
    "import seaborn as sns\n",
    "import plotly.express as px\n"
   ]
  },
  {
   "cell_type": "markdown",
   "metadata": {},
   "source": [
    "### Data Acquisition\n",
    "Load the data into a suitable structure for analysis, typically a DataFrame when working with Python.\n",
    "Use the palmerpenguins dataset available in the data.csv file."
   ]
  },
  {
   "cell_type": "code",
   "execution_count": 3,
   "metadata": {},
   "outputs": [
    {
     "name": "stdout",
     "output_type": "stream",
     "text": [
      "  species     island  bill_length_mm  bill_depth_mm  flipper_length_mm  \\\n",
      "0  Adelie  Torgersen            39.1           18.7              181.0   \n",
      "1  Adelie  Torgersen            39.5           17.4              186.0   \n",
      "2  Adelie  Torgersen            40.3           18.0              195.0   \n",
      "3  Adelie  Torgersen             NaN            NaN                NaN   \n",
      "4  Adelie  Torgersen            36.7           19.3              193.0   \n",
      "\n",
      "   body_mass_g     sex  year  \n",
      "0       3750.0    male  2007  \n",
      "1       3800.0  female  2007  \n",
      "2       3250.0  female  2007  \n",
      "3          NaN     NaN  2007  \n",
      "4       3450.0  female  2007  \n"
     ]
    }
   ],
   "source": [
    "df = pd.read_csv('data.csv')\n",
    "print(df.head())"
   ]
  },
  {
   "cell_type": "markdown",
   "metadata": {},
   "source": [
    "### Initial Data Inspection\n",
    "Display the first 10 rows of the DataFrame, check the shape, and display the data types of each column.\n",
    "This step is crucial for getting familiar with the dataset's format, size, and the type of information each column holds."
   ]
  },
  {
   "cell_type": "code",
   "execution_count": null,
   "metadata": {},
   "outputs": [],
   "source": [
    "print(df.head(10))\n",
    "print(df.shape)\n",
    "print(df.dtypes)"
   ]
  },
  {
   "cell_type": "markdown",
   "metadata": {},
   "source": [
    "In case you aren't familiar with penguins, here is a diagram of where the measurements for the bill come from.\n",
    "![Penguin Bills](https://allisonhorst.github.io/palmerpenguins/reference/figures/culmen_depth.png)\n",
    "Artwork by @allison_horst\n",
    "\n",
    "Flippers are penguins wings. They are flat, thin, and broad with a long, tapered shape and a blunt, rounded tip."
   ]
  },
  {
   "cell_type": "markdown",
   "metadata": {},
   "source": [
    "### Initial Descriptive Statistics\n",
    "Use the DataFrame describe() method to display summary statistics for each numerical column.\n",
    "This provides insights into the distribution and central tendencies of the data, which can be crucial for identifying patterns, anomalies, or data integrity issues."
   ]
  },
  {
   "cell_type": "code",
   "execution_count": null,
   "metadata": {},
   "outputs": [],
   "source": [
    "print(df.describe())"
   ]
  },
  {
   "cell_type": "markdown",
   "metadata": {},
   "source": [
    "### Initial Data Distribution for Numerical Columns\n",
    "Choose a numerical column and use df['column_name'].hist() to plot a histogram for that specific column.\n",
    "To show all the histograms for all numerical columns, use df.hist()."
   ]
  },
  {
   "cell_type": "code",
   "execution_count": null,
   "metadata": {},
   "outputs": [],
   "source": [
    "# Example of specific column histogram\n",
    "# df['flipper_length_mm'].hist()\n",
    "\n",
    "# Inspect histograms for all numerical columns\n",
    "df.hist()\n",
    "\n",
    "# Show all plots\n",
    "plt.show()"
   ]
  },
  {
   "cell_type": "markdown",
   "metadata": {},
   "source": [
    ">#### Numerical Distribution Observations\n",
    ">\n",
    ">Bill Length (mm): Bimodal distribution with peaks around 40-45 mm and 50-55 mm.\n",
    ">\n",
    ">Bill Depth (mm): Slightly right-skewed, most data points between 15-19 mm, peaking around 17 mm.\n",
    ">\n",
    ">Flipper Length (mm): Bimodal distribution with peaks around 190 mm and 210 mm.\n",
    ">\n",
    ">Body Mass (g): Right-skewed, most data points between 3000-5000 g, peaking around 4000 g.\n",
    ">\n",
    ">Year: Evenly distributed across four years (2007, 2008, 2009, and 2010), indicating balanced data collection."
   ]
  },
  {
   "cell_type": "markdown",
   "metadata": {},
   "source": [
    "### Initial Data Distribution for Categorical Columns\n",
    "Choose a categorical column and use df['column_name'].value_counts() to display the count of each category.\n",
    "Use a loop to show the value counts for all categorical columns."
   ]
  },
  {
   "cell_type": "code",
   "execution_count": null,
   "metadata": {},
   "outputs": [],
   "source": [
    "# example df['species'].value_counts()\n",
    "# example plt.show()\n",
    "\n",
    "# Loop\n",
    "for col in df.select_dtypes(include=['object', 'category']).columns:\n",
    "    # Display count plot\n",
    "    sns.countplot(x=col, data=df)\n",
    "    plt.title(f'Distribution of {col}')\n",
    "    plt.show()"
   ]
  },
  {
   "cell_type": "markdown",
   "metadata": {},
   "source": [
    ">#### Categorical Distribution Observations\n",
    ">\n",
    ">Species: Adelie is the most common species in this sample.\n",
    ">\n",
    ">Island: Biscoe Island has the highest penguin population.\n",
    ">\n",
    ">Sex: Male and female penguins are evenly distributed in this dataset. 🐧"
   ]
  },
  {
   "cell_type": "markdown",
   "metadata": {},
   "source": [
    "### Initial Data Transformation and Feature Engineering\n",
    "Data rarely comes in the format needed for optimal analysis.\n",
    "Data Cleaning is about ensuring the quality and consistency of the data.\n",
    "Data Transformation focuses on preparing the data for analysis."
   ]
  },
  {
   "cell_type": "code",
   "execution_count": 5,
   "metadata": {},
   "outputs": [],
   "source": [
    "# Renaming a column\n",
    "df.rename(columns={'sex': 'GENDER'}, inplace=True)\n",
    "\n",
    "# Adding new columns\n",
    "df['bill_length_in'] = df['bill_length_mm'] / 25.4\n",
    "df['bill_depth_in'] = df['bill_depth_mm'] / 25.4\n",
    "df['flipper_length_in'] = df['flipper_length_mm'] / 25.4\n",
    "df['body_mass_lbs'] = df['body_mass_g'] /  453.6"
   ]
  },
  {
   "cell_type": "code",
   "execution_count": 6,
   "metadata": {},
   "outputs": [
    {
     "name": "stdout",
     "output_type": "stream",
     "text": [
      "  species     island  bill_length_mm  bill_depth_mm  flipper_length_mm  \\\n",
      "0  Adelie  Torgersen            39.1           18.7              181.0   \n",
      "1  Adelie  Torgersen            39.5           17.4              186.0   \n",
      "2  Adelie  Torgersen            40.3           18.0              195.0   \n",
      "3  Adelie  Torgersen             NaN            NaN                NaN   \n",
      "4  Adelie  Torgersen            36.7           19.3              193.0   \n",
      "\n",
      "   body_mass_g  GENDER  year  bill_length_in  bill_depth_in  \\\n",
      "0       3750.0    male  2007        1.539370       0.736220   \n",
      "1       3800.0  female  2007        1.555118       0.685039   \n",
      "2       3250.0  female  2007        1.586614       0.708661   \n",
      "3          NaN     NaN  2007             NaN            NaN   \n",
      "4       3450.0  female  2007        1.444882       0.759843   \n",
      "\n",
      "   flipper_length_in  body_mass_lbs  \n",
      "0           7.125984       8.267196  \n",
      "1           7.322835       8.377425  \n",
      "2           7.677165       7.164903  \n",
      "3                NaN            NaN  \n",
      "4           7.598425       7.605820  \n"
     ]
    }
   ],
   "source": [
    "# verify above code was successful\n",
    "print(df.head())"
   ]
  },
  {
   "cell_type": "markdown",
   "metadata": {},
   "source": [
    "### Initial Visualizations\n",
    "With the data in the right shape, using the features and columns in the desired format, the next step is to dive deeper into visualization.\n",
    "This involves using more complex chart types to extract and present insights from the data.\n",
    "For instance, pair plots from seaborn can be very useful for understanding relationships between all variables in a dataset."
   ]
  },
  {
   "cell_type": "markdown",
   "metadata": {},
   "source": [
    "Scatterplot flipper vs body\n",
    "violin plot male vs female\n",
    "kde for bill length?"
   ]
  }
 ],
 "metadata": {
  "kernelspec": {
   "display_name": ".venv",
   "language": "python",
   "name": "python3"
  },
  "language_info": {
   "codemirror_mode": {
    "name": "ipython",
    "version": 3
   },
   "file_extension": ".py",
   "mimetype": "text/x-python",
   "name": "python",
   "nbconvert_exporter": "python",
   "pygments_lexer": "ipython3",
   "version": "3.12.3"
  }
 },
 "nbformat": 4,
 "nbformat_minor": 2
}
