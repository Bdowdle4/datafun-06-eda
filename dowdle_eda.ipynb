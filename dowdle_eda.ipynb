{
 "cells": [
  {
   "cell_type": "markdown",
   "metadata": {},
   "source": [
    "# Project 6 Custom Data Anlaytics Project\n",
    "Brittany Dowdle   06/05/2024\n",
    "\n",
    "## Overview\n",
    "In this project, I'll use Jupyter to perform a custom project. I will perform my own unique exploratory data analysis project and present data stories by narrating my process and sharing the insights gained from the data.\n",
    "\n",
    "## Objective\n",
    "Perform and publish a custom EDA project to demnostrate skills with Jupyter, pandas, Seaborn and popular tools for data analytics. The notebook should tell a data story and visually present findings in a clear and engaging manner.\n",
    "\n",
    "## Choose a dataset for analysis\n",
    "Palmerpenguins is a great dataset for data exploration and visualization. Data comes from 3 penguin species in the islands of Palmer Archipelago, Antarctica."
   ]
  },
  {
   "cell_type": "markdown",
   "metadata": {},
   "source": [
    "### Import Dependencies *(At the Top, After the Introduction)*\n",
    "Follow conventional package import organization and alias.\n",
    "Import each package just once near the top of the file.\n",
    "Be sure you have **INSTALLED** any external packages *(outside the Python Standard Library)* into your active project virtual environment first."
   ]
  },
  {
   "cell_type": "code",
   "execution_count": 1,
   "metadata": {},
   "outputs": [],
   "source": [
    "#Execute the cell seperately to ensure everything works.\n",
    "import matplotlib.pyplot as plt\n",
    "import pandas as pd\n",
    "import seaborn as sns\n",
    "import numpy as np"
   ]
  },
  {
   "cell_type": "markdown",
   "metadata": {},
   "source": [
    "### Data Acquisition\n",
    "Load the data into a suitable structure for analysis, typically a DataFrame when working with Python.\n",
    "Use the palmerpenguins dataset available in the data.csv file."
   ]
  },
  {
   "cell_type": "code",
   "execution_count": 3,
   "metadata": {},
   "outputs": [
    {
     "name": "stdout",
     "output_type": "stream",
     "text": [
      "  species     island  bill_length_mm  bill_depth_mm  flipper_length_mm  \\\n",
      "0  Adelie  Torgersen            39.1           18.7              181.0   \n",
      "1  Adelie  Torgersen            39.5           17.4              186.0   \n",
      "2  Adelie  Torgersen            40.3           18.0              195.0   \n",
      "3  Adelie  Torgersen             NaN            NaN                NaN   \n",
      "4  Adelie  Torgersen            36.7           19.3              193.0   \n",
      "\n",
      "   body_mass_g     sex  year  \n",
      "0       3750.0    male  2007  \n",
      "1       3800.0  female  2007  \n",
      "2       3250.0  female  2007  \n",
      "3          NaN     NaN  2007  \n",
      "4       3450.0  female  2007  \n"
     ]
    }
   ],
   "source": [
    "df = pd.read_csv('data.csv')\n",
    "print(df.head())"
   ]
  },
  {
   "cell_type": "markdown",
   "metadata": {},
   "source": [
    "### Initial Data Inspection\n",
    "Display the first 10 rows of the DataFrame, check the shape, and display the data types of each column.\n",
    "This step is crucial for getting familiar with the dataset's format, size, and the type of information each column holds."
   ]
  },
  {
   "cell_type": "code",
   "execution_count": 4,
   "metadata": {},
   "outputs": [
    {
     "name": "stdout",
     "output_type": "stream",
     "text": [
      "  species     island  bill_length_mm  bill_depth_mm  flipper_length_mm  \\\n",
      "0  Adelie  Torgersen            39.1           18.7              181.0   \n",
      "1  Adelie  Torgersen            39.5           17.4              186.0   \n",
      "2  Adelie  Torgersen            40.3           18.0              195.0   \n",
      "3  Adelie  Torgersen             NaN            NaN                NaN   \n",
      "4  Adelie  Torgersen            36.7           19.3              193.0   \n",
      "5  Adelie  Torgersen            39.3           20.6              190.0   \n",
      "6  Adelie  Torgersen            38.9           17.8              181.0   \n",
      "7  Adelie  Torgersen            39.2           19.6              195.0   \n",
      "8  Adelie  Torgersen            34.1           18.1              193.0   \n",
      "9  Adelie  Torgersen            42.0           20.2              190.0   \n",
      "\n",
      "   body_mass_g     sex  year  \n",
      "0       3750.0    male  2007  \n",
      "1       3800.0  female  2007  \n",
      "2       3250.0  female  2007  \n",
      "3          NaN     NaN  2007  \n",
      "4       3450.0  female  2007  \n",
      "5       3650.0    male  2007  \n",
      "6       3625.0  female  2007  \n",
      "7       4675.0    male  2007  \n",
      "8       3475.0     NaN  2007  \n",
      "9       4250.0     NaN  2007  \n",
      "(344, 8)\n",
      "species               object\n",
      "island                object\n",
      "bill_length_mm       float64\n",
      "bill_depth_mm        float64\n",
      "flipper_length_mm    float64\n",
      "body_mass_g          float64\n",
      "sex                   object\n",
      "year                   int64\n",
      "dtype: object\n"
     ]
    }
   ],
   "source": [
    "print(df.head(10))\n",
    "print(df.shape)\n",
    "print(df.dtypes)"
   ]
  },
  {
   "cell_type": "markdown",
   "metadata": {},
   "source": [
    "In case you aren't familiar with penguins, here is a diagram of where the measurements for the bill come from.\n",
    "![Penguin Bills](https://allisonhorst.github.io/palmerpenguins/reference/figures/culmen_depth.png)\n",
    "Artwork by @allison_horst\n",
    "\n",
    "Flippers are penguins wings. They are flat, thin, and broad with a long, tapered shape and a blunt, rounded tip."
   ]
  }
 ],
 "metadata": {
  "kernelspec": {
   "display_name": ".venv",
   "language": "python",
   "name": "python3"
  },
  "language_info": {
   "codemirror_mode": {
    "name": "ipython",
    "version": 3
   },
   "file_extension": ".py",
   "mimetype": "text/x-python",
   "name": "python",
   "nbconvert_exporter": "python",
   "pygments_lexer": "ipython3",
   "version": "3.12.3"
  }
 },
 "nbformat": 4,
 "nbformat_minor": 2
}
